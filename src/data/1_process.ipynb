{
 "cells": [
  {
   "cell_type": "code",
   "execution_count": 1,
   "metadata": {},
   "outputs": [],
   "source": [
    "import pandas as pd\n",
    "from datetime import datetime"
   ]
  },
  {
   "cell_type": "code",
   "execution_count": 2,
   "metadata": {},
   "outputs": [
    {
     "name": "stdout",
     "output_type": "stream",
     "text": [
      "<class 'pandas.core.frame.DataFrame'>\n",
      "RangeIndex: 3205 entries, 0 to 3204\n",
      "Data columns (total 7 columns):\n",
      " #   Column       Non-Null Count  Dtype \n",
      "---  ------       --------------  ----- \n",
      " 0   AY           3205 non-null   object\n",
      " 1   Institution  3205 non-null   object\n",
      " 2   Position     3205 non-null   object\n",
      " 3   Address      3205 non-null   object\n",
      " 4   Link         3061 non-null   object\n",
      " 5   TrackType    3205 non-null   object\n",
      " 6   DateAdded    3205 non-null   object\n",
      "dtypes: object(7)\n",
      "memory usage: 175.4+ KB\n"
     ]
    }
   ],
   "source": [
    "df_all = pd.read_csv('all-jobs.csv')\n",
    "df_all.info()"
   ]
  },
  {
   "cell_type": "code",
   "execution_count": 3,
   "metadata": {},
   "outputs": [
    {
     "name": "stdout",
     "output_type": "stream",
     "text": [
      "<class 'pandas.core.frame.DataFrame'>\n",
      "RangeIndex: 3255 entries, 0 to 3254\n",
      "Data columns (total 17 columns):\n",
      " #   Column            Non-Null Count  Dtype  \n",
      "---  ------            --------------  -----  \n",
      " 0   AY                3255 non-null   object \n",
      " 1   Institution       3255 non-null   object \n",
      " 2   Position          3255 non-null   object \n",
      " 3   Address           3255 non-null   object \n",
      " 4   Link              3098 non-null   object \n",
      " 5   TrackType         3255 non-null   object \n",
      " 6   DateAdded         3255 non-null   object \n",
      " 7   DateTimeObj       3255 non-null   object \n",
      " 8   Latitude          3255 non-null   float64\n",
      " 9   Longitude         3255 non-null   float64\n",
      " 10  FormattedAddress  3255 non-null   object \n",
      " 11  City              3186 non-null   object \n",
      " 12  County            2927 non-null   object \n",
      " 13  State             3232 non-null   object \n",
      " 14  StateCode         3120 non-null   object \n",
      " 15  Country           3254 non-null   object \n",
      " 16  CountryCode       3255 non-null   object \n",
      "dtypes: float64(2), object(15)\n",
      "memory usage: 432.4+ KB\n"
     ]
    }
   ],
   "source": [
    "df_combined = pd.read_csv('combined-jobs.csv')\n",
    "df_combined.info()"
   ]
  },
  {
   "cell_type": "markdown",
   "metadata": {},
   "source": [
    "## Show Difference Between Two DataFrames"
   ]
  },
  {
   "cell_type": "code",
   "execution_count": 9,
   "metadata": {},
   "outputs": [
    {
     "data": {
      "text/html": [
       "<div>\n",
       "<style scoped>\n",
       "    .dataframe tbody tr th:only-of-type {\n",
       "        vertical-align: middle;\n",
       "    }\n",
       "\n",
       "    .dataframe tbody tr th {\n",
       "        vertical-align: top;\n",
       "    }\n",
       "\n",
       "    .dataframe thead th {\n",
       "        text-align: right;\n",
       "    }\n",
       "</style>\n",
       "<table border=\"1\" class=\"dataframe\">\n",
       "  <thead>\n",
       "    <tr style=\"text-align: right;\">\n",
       "      <th></th>\n",
       "      <th>AY</th>\n",
       "      <th>Institution</th>\n",
       "      <th>Position</th>\n",
       "      <th>Address</th>\n",
       "      <th>Link</th>\n",
       "      <th>TrackType</th>\n",
       "      <th>DateAdded</th>\n",
       "      <th>DateTimeObj</th>\n",
       "      <th>Latitude</th>\n",
       "      <th>Longitude</th>\n",
       "      <th>FormattedAddress</th>\n",
       "      <th>City</th>\n",
       "      <th>County</th>\n",
       "      <th>State</th>\n",
       "      <th>StateCode</th>\n",
       "      <th>Country</th>\n",
       "      <th>CountryCode</th>\n",
       "      <th>_merge</th>\n",
       "    </tr>\n",
       "  </thead>\n",
       "  <tbody>\n",
       "  </tbody>\n",
       "</table>\n",
       "</div>"
      ],
      "text/plain": [
       "Empty DataFrame\n",
       "Columns: [AY, Institution, Position, Address, Link, TrackType, DateAdded, DateTimeObj, Latitude, Longitude, FormattedAddress, City, County, State, StateCode, Country, CountryCode, _merge]\n",
       "Index: []"
      ]
     },
     "execution_count": 9,
     "metadata": {},
     "output_type": "execute_result"
    }
   ],
   "source": [
    "df_diff = df_all.merge(df_combined, indicator = True, how='left').loc[lambda x : x['_merge']!='both']\n",
    "df_diff"
   ]
  },
  {
   "cell_type": "code",
   "execution_count": 10,
   "metadata": {},
   "outputs": [
    {
     "data": {
      "text/plain": [
       "[]"
      ]
     },
     "execution_count": 10,
     "metadata": {},
     "output_type": "execute_result"
    }
   ],
   "source": [
    "df_diff.Institution.values.tolist()"
   ]
  },
  {
   "cell_type": "markdown",
   "metadata": {},
   "source": [
    "## Create TrackType Data SubSet\n",
    "\n",
    "Write a new file with per date sum of job type post counts:\n",
    "\n",
    "{date, posts: INT total of TT, type: \"TT\"},\n",
    "{date, posts: INT total of NTT, type: \"NTT\"},\n",
    "{date, posts: INT total of Unavailable, type: \"Unavailable\"},"
   ]
  },
  {
   "cell_type": "code",
   "execution_count": 4,
   "metadata": {},
   "outputs": [],
   "source": [
    "def create_subset(df, subset_col_1, subset_col_dates):\n",
    "  '''\n",
    "  # @create_subset: Create subsets of TrackType data\n",
    "\n",
    "  # Params\n",
    "  - df: pandas DataFrame. Data set with all parameters of interest\n",
    "  - subset_col: String. Column of interest.\n",
    "  \n",
    "  ## Return\n",
    "  - new_df: pandas DataFrame. New dataframe with following structure per row: \n",
    "    - date: DateTime Obj of posting date.\n",
    "    - type: String. Type of track: TT, NTT, Unavailable.\n",
    "    - posts: Integer. Total sum of posts of that type of job on that specific date.\n",
    "  '''\n",
    "  uniq_subset_col_values = df[subset_col_1].unique()\n",
    "  uniq_subset_col_dates = sorted(df[subset_col_dates].apply(lambda d: datetime.strptime(d,'%m/%d/%Y')).unique())\n",
    "  list_unique_dates_sorted = []\n",
    "  for date in uniq_subset_col_dates:\n",
    "    list_unique_dates_sorted.append(date.strftime(\"%m/%d/%Y\"))\n",
    "\n",
    "  list_record_rows_per_date = []\n",
    "  list_record_rows_flat = []\n",
    "  for date_str in list_unique_dates_sorted:\n",
    "    if date_str != '01/01/1900':\n",
    "      date_slice = df.loc[df.DateAdded == date_str]\n",
    "      list_record_rows_per_date.append({\n",
    "        'date': date_str,\n",
    "        'datetimeObj': datetime.strptime(date_str, '%m/%d/%Y'),\n",
    "        'TT': len(date_slice.loc[date_slice.TrackType == 'TT']),\n",
    "        'NTT': len(date_slice.loc[date_slice.TrackType == 'NTT']),\n",
    "        'Unavailable': len(date_slice.loc[date_slice.TrackType == 'Unavailable']),\n",
    "        'Total': len(date_slice.loc[date_slice.TrackType == 'TT'])+len(date_slice.loc[date_slice.TrackType == 'NTT'])+len(date_slice.loc[date_slice.TrackType == 'Unavailable'])\n",
    "      })\n",
    "\n",
    "      for tt in uniq_subset_col_values:\n",
    "        tt_date_slice = date_slice.loc[date_slice.TrackType == tt]\n",
    "        list_record_rows_flat.append({\n",
    "          'date': date_str,\n",
    "          'datetimeObj': datetime.strptime(date_str, '%m/%d/%Y'),\n",
    "          'type': tt,\n",
    "          'posts': len(tt_date_slice)\n",
    "        })\n",
    "  df_new_flat = pd.DataFrame(list_record_rows_flat)\n",
    "  df_new_per_date = pd.DataFrame(list_record_rows_per_date)\n",
    "  # Add moving averages\n",
    "  df_new_flat['Overall_EMA'] = df_new_flat['posts'].ewm(span=7).mean()        # Exponential Moving Average\n",
    "  df_new_per_date['Overall_EMA'] = df_new_per_date['Total'].ewm(span=7).mean()        # Exponential Moving Average\n",
    "  return {\n",
    "    'df_new_flat': df_new_flat,\n",
    "    'df_new_per_date': df_new_per_date,\n",
    "  }\n"
   ]
  },
  {
   "cell_type": "code",
   "execution_count": 5,
   "metadata": {},
   "outputs": [
    {
     "name": "stdout",
     "output_type": "stream",
     "text": [
      "<class 'pandas.core.frame.DataFrame'>\n",
      "RangeIndex: 1076 entries, 0 to 1075\n",
      "Data columns (total 7 columns):\n",
      " #   Column       Non-Null Count  Dtype         \n",
      "---  ------       --------------  -----         \n",
      " 0   date         1076 non-null   object        \n",
      " 1   datetimeObj  1076 non-null   datetime64[ns]\n",
      " 2   TT           1076 non-null   int64         \n",
      " 3   NTT          1076 non-null   int64         \n",
      " 4   Unavailable  1076 non-null   int64         \n",
      " 5   Total        1076 non-null   int64         \n",
      " 6   Overall_EMA  1076 non-null   float64       \n",
      "dtypes: datetime64[ns](1), float64(1), int64(4), object(1)\n",
      "memory usage: 59.0+ KB\n"
     ]
    }
   ],
   "source": [
    "df__tt_per_date_flat = create_subset(df_combined, subset_col_1='TrackType', subset_col_dates='DateAdded')\n",
    "df__tt_per_date_flat['df_new_per_date'].info()"
   ]
  },
  {
   "cell_type": "code",
   "execution_count": 6,
   "metadata": {},
   "outputs": [
    {
     "data": {
      "text/html": [
       "<div>\n",
       "<style scoped>\n",
       "    .dataframe tbody tr th:only-of-type {\n",
       "        vertical-align: middle;\n",
       "    }\n",
       "\n",
       "    .dataframe tbody tr th {\n",
       "        vertical-align: top;\n",
       "    }\n",
       "\n",
       "    .dataframe thead th {\n",
       "        text-align: right;\n",
       "    }\n",
       "</style>\n",
       "<table border=\"1\" class=\"dataframe\">\n",
       "  <thead>\n",
       "    <tr style=\"text-align: right;\">\n",
       "      <th></th>\n",
       "      <th>date</th>\n",
       "      <th>datetimeObj</th>\n",
       "      <th>TT</th>\n",
       "      <th>NTT</th>\n",
       "      <th>Unavailable</th>\n",
       "      <th>Total</th>\n",
       "      <th>Overall_EMA</th>\n",
       "    </tr>\n",
       "  </thead>\n",
       "  <tbody>\n",
       "    <tr>\n",
       "      <th>0</th>\n",
       "      <td>09/15/2012</td>\n",
       "      <td>2012-09-15</td>\n",
       "      <td>0</td>\n",
       "      <td>1</td>\n",
       "      <td>0</td>\n",
       "      <td>1</td>\n",
       "      <td>1.000000</td>\n",
       "    </tr>\n",
       "    <tr>\n",
       "      <th>1</th>\n",
       "      <td>01/15/2013</td>\n",
       "      <td>2013-01-15</td>\n",
       "      <td>0</td>\n",
       "      <td>1</td>\n",
       "      <td>0</td>\n",
       "      <td>1</td>\n",
       "      <td>1.000000</td>\n",
       "    </tr>\n",
       "    <tr>\n",
       "      <th>2</th>\n",
       "      <td>01/20/2013</td>\n",
       "      <td>2013-01-20</td>\n",
       "      <td>0</td>\n",
       "      <td>1</td>\n",
       "      <td>0</td>\n",
       "      <td>1</td>\n",
       "      <td>1.000000</td>\n",
       "    </tr>\n",
       "    <tr>\n",
       "      <th>3</th>\n",
       "      <td>01/23/2013</td>\n",
       "      <td>2013-01-23</td>\n",
       "      <td>2</td>\n",
       "      <td>0</td>\n",
       "      <td>0</td>\n",
       "      <td>2</td>\n",
       "      <td>1.365714</td>\n",
       "    </tr>\n",
       "    <tr>\n",
       "      <th>4</th>\n",
       "      <td>01/24/2013</td>\n",
       "      <td>2013-01-24</td>\n",
       "      <td>1</td>\n",
       "      <td>0</td>\n",
       "      <td>0</td>\n",
       "      <td>1</td>\n",
       "      <td>1.245839</td>\n",
       "    </tr>\n",
       "  </tbody>\n",
       "</table>\n",
       "</div>"
      ],
      "text/plain": [
       "         date datetimeObj  TT  NTT  Unavailable  Total  Overall_EMA\n",
       "0  09/15/2012  2012-09-15   0    1            0      1     1.000000\n",
       "1  01/15/2013  2013-01-15   0    1            0      1     1.000000\n",
       "2  01/20/2013  2013-01-20   0    1            0      1     1.000000\n",
       "3  01/23/2013  2013-01-23   2    0            0      2     1.365714\n",
       "4  01/24/2013  2013-01-24   1    0            0      1     1.245839"
      ]
     },
     "execution_count": 6,
     "metadata": {},
     "output_type": "execute_result"
    }
   ],
   "source": [
    "df__tt_per_date_flat['df_new_per_date'].head()"
   ]
  },
  {
   "cell_type": "code",
   "execution_count": 7,
   "metadata": {},
   "outputs": [],
   "source": [
    "df__tt_per_date_flat['df_new_flat'].to_csv('tt-per-date-flat.csv', index=False)"
   ]
  },
  {
   "cell_type": "code",
   "execution_count": 8,
   "metadata": {},
   "outputs": [],
   "source": [
    "df__tt_per_date_flat['df_new_per_date'].to_csv('tt-per-date.csv', index=False)"
   ]
  }
 ],
 "metadata": {
  "kernelspec": {
   "display_name": "3.10.12",
   "language": "python",
   "name": "python3"
  },
  "language_info": {
   "codemirror_mode": {
    "name": "ipython",
    "version": 3
   },
   "file_extension": ".py",
   "mimetype": "text/x-python",
   "name": "python",
   "nbconvert_exporter": "python",
   "pygments_lexer": "ipython3",
   "version": "3.10.12"
  }
 },
 "nbformat": 4,
 "nbformat_minor": 2
}
