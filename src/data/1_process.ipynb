{
 "cells": [
  {
   "cell_type": "code",
   "execution_count": 3,
   "metadata": {},
   "outputs": [],
   "source": [
    "import pandas as pd\n",
    "from datetime import datetime"
   ]
  },
  {
   "cell_type": "code",
   "execution_count": 4,
   "metadata": {},
   "outputs": [
    {
     "name": "stdout",
     "output_type": "stream",
     "text": [
      "<class 'pandas.core.frame.DataFrame'>\n",
      "RangeIndex: 3166 entries, 0 to 3165\n",
      "Data columns (total 17 columns):\n",
      " #   Column            Non-Null Count  Dtype  \n",
      "---  ------            --------------  -----  \n",
      " 0   AY                3166 non-null   object \n",
      " 1   Institution       3166 non-null   object \n",
      " 2   Position          3166 non-null   object \n",
      " 3   Address           3166 non-null   object \n",
      " 4   Link              3023 non-null   object \n",
      " 5   TrackType         3166 non-null   object \n",
      " 6   DateAdded         3166 non-null   object \n",
      " 7   DateTimeObj       3166 non-null   object \n",
      " 8   Latitude          3166 non-null   float64\n",
      " 9   Longitude         3166 non-null   float64\n",
      " 10  FormattedAddress  3166 non-null   object \n",
      " 11  City              3097 non-null   object \n",
      " 12  County            2861 non-null   object \n",
      " 13  State             3143 non-null   object \n",
      " 14  StateCode         3055 non-null   object \n",
      " 15  Country           3165 non-null   object \n",
      " 16  CountryCode       3166 non-null   object \n",
      "dtypes: float64(2), object(15)\n",
      "memory usage: 420.6+ KB\n"
     ]
    }
   ],
   "source": [
    "df_all = pd.read_csv('combined-jobs.csv')\n",
    "df_all.info()"
   ]
  },
  {
   "cell_type": "markdown",
   "metadata": {},
   "source": [
    "## Create TrackType Data SubSet\n",
    "\n",
    "Write a new file with per date sum of job type post counts:\n",
    "\n",
    "{date, posts: INT total of TT, type: \"TT\"},\n",
    "{date, posts: INT total of NTT, type: \"NTT\"},\n",
    "{date, posts: INT total of Unavailable, type: \"Unavailable\"},"
   ]
  },
  {
   "cell_type": "code",
   "execution_count": 5,
   "metadata": {},
   "outputs": [],
   "source": [
    "def create_subset(df, subset_col_1, subset_col_dates):\n",
    "  '''\n",
    "  # @create_subset: Create subsets of TrackType data\n",
    "\n",
    "  # Params\n",
    "  - df: pandas DataFrame. Data set with all parameters of interest\n",
    "  - subset_col: String. Column of interest.\n",
    "  \n",
    "  ## Return\n",
    "  - new_df: pandas DataFrame. New dataframe with following structure per row: \n",
    "    - date: DateTime Obj of posting date.\n",
    "    - type: String. Type of track: TT, NTT, Unavailable.\n",
    "    - posts: Integer. Total sum of posts of that type of job on that specific date.\n",
    "  '''\n",
    "  uniq_subset_col_values = df[subset_col_1].unique()\n",
    "  uniq_subset_col_dates = sorted(df[subset_col_dates].apply(lambda d: datetime.strptime(d,'%m/%d/%Y')).unique())\n",
    "  list_unique_dates_sorted = []\n",
    "  for date in uniq_subset_col_dates:\n",
    "    list_unique_dates_sorted.append(date.strftime(\"%m/%d/%Y\"))\n",
    "  print(uniq_subset_col_values)\n",
    "  print(uniq_subset_col_dates)\n",
    "  print(list_unique_dates_sorted)\n",
    "\n",
    "  list_record_rows_per_date = []\n",
    "  list_record_rows_flat = []\n",
    "  for date_str in list_unique_dates_sorted:\n",
    "    if date_str != '01/01/1900':\n",
    "      date_slice = df.loc[df.DateAdded == date_str]\n",
    "      list_record_rows_per_date.append({\n",
    "        'date': date_str,\n",
    "        'datetimeObj': datetime.strptime(date_str, '%m/%d/%Y'),\n",
    "        'TT': len(date_slice.loc[date_slice.TrackType == 'TT']),\n",
    "        'NTT': len(date_slice.loc[date_slice.TrackType == 'NTT']),\n",
    "        'Unavailable': len(date_slice.loc[date_slice.TrackType == 'Unavailable']),\n",
    "        'Total': len(date_slice.loc[date_slice.TrackType == 'TT'])+len(date_slice.loc[date_slice.TrackType == 'NTT'])+len(date_slice.loc[date_slice.TrackType == 'Unavailable'])\n",
    "      })\n",
    "\n",
    "      for tt in uniq_subset_col_values:\n",
    "        tt_date_slice = date_slice.loc[date_slice.TrackType == tt]\n",
    "        list_record_rows_flat.append({\n",
    "          'date': date_str,\n",
    "          'datetimeObj': datetime.strptime(date_str, '%m/%d/%Y'),\n",
    "          'type': tt,\n",
    "          'posts': len(tt_date_slice)\n",
    "        })\n",
    "  df_new_flat = pd.DataFrame(list_record_rows_flat)\n",
    "  df_new_per_date = pd.DataFrame(list_record_rows_per_date)\n",
    "  # Add moving averages\n",
    "  df_new_flat['Overall_EMA'] = df_new_flat['posts'].ewm(span=7).mean()        # Exponential Moving Average\n",
    "  df_new_per_date['Overall_EMA'] = df_new_per_date['Total'].ewm(span=7).mean()        # Exponential Moving Average\n",
    "  return {\n",
    "    'df_new_flat': df_new_flat,\n",
    "    'df_new_per_date': df_new_per_date,\n",
    "  }\n"
   ]
  },
  {
   "cell_type": "code",
   "execution_count": 6,
   "metadata": {},
   "outputs": [
    {
     "name": "stdout",
     "output_type": "stream",
     "text": [
      "['TT' 'NTT' 'Unavailable']\n",
      "[Timestamp('1900-01-01 00:00:00'), Timestamp('2012-09-15 00:00:00'), Timestamp('2013-01-15 00:00:00'), Timestamp('2013-01-20 00:00:00'), Timestamp('2013-01-23 00:00:00'), Timestamp('2013-01-24 00:00:00'), Timestamp('2013-01-28 00:00:00'), Timestamp('2013-02-01 00:00:00'), Timestamp('2013-02-03 00:00:00'), Timestamp('2013-02-04 00:00:00'), Timestamp('2013-02-13 00:00:00'), Timestamp('2013-08-15 00:00:00'), Timestamp('2013-08-16 00:00:00'), Timestamp('2013-08-19 00:00:00'), Timestamp('2013-08-21 00:00:00'), Timestamp('2013-08-23 00:00:00'), Timestamp('2013-08-26 00:00:00'), Timestamp('2013-08-27 00:00:00'), Timestamp('2013-08-28 00:00:00'), Timestamp('2013-08-30 00:00:00'), Timestamp('2013-09-01 00:00:00'), Timestamp('2013-09-02 00:00:00'), Timestamp('2013-09-03 00:00:00'), Timestamp('2013-09-04 00:00:00'), Timestamp('2013-09-05 00:00:00'), Timestamp('2013-09-06 00:00:00'), Timestamp('2013-09-08 00:00:00'), Timestamp('2013-09-09 00:00:00'), Timestamp('2013-09-10 00:00:00'), Timestamp('2013-09-11 00:00:00'), Timestamp('2013-09-12 00:00:00'), Timestamp('2013-09-13 00:00:00'), Timestamp('2013-09-14 00:00:00'), Timestamp('2013-09-15 00:00:00'), Timestamp('2013-09-16 00:00:00'), Timestamp('2013-09-17 00:00:00'), Timestamp('2013-09-18 00:00:00'), Timestamp('2013-09-19 00:00:00'), Timestamp('2013-09-20 00:00:00'), Timestamp('2013-09-23 00:00:00'), Timestamp('2013-09-24 00:00:00'), Timestamp('2013-09-25 00:00:00'), Timestamp('2013-09-26 00:00:00'), Timestamp('2013-09-27 00:00:00'), Timestamp('2013-09-30 00:00:00'), Timestamp('2013-10-01 00:00:00'), Timestamp('2013-10-02 00:00:00'), Timestamp('2013-10-03 00:00:00'), Timestamp('2013-10-04 00:00:00'), Timestamp('2013-10-07 00:00:00'), Timestamp('2013-10-08 00:00:00'), Timestamp('2013-10-09 00:00:00'), Timestamp('2013-10-10 00:00:00'), Timestamp('2013-10-11 00:00:00'), Timestamp('2013-10-12 00:00:00'), Timestamp('2013-10-14 00:00:00'), Timestamp('2013-10-15 00:00:00'), Timestamp('2013-10-16 00:00:00'), Timestamp('2013-10-17 00:00:00'), Timestamp('2013-10-18 00:00:00'), Timestamp('2013-10-21 00:00:00'), Timestamp('2013-10-22 00:00:00'), Timestamp('2013-10-23 00:00:00'), Timestamp('2013-10-24 00:00:00'), Timestamp('2013-10-25 00:00:00'), Timestamp('2013-10-27 00:00:00'), Timestamp('2013-10-28 00:00:00'), Timestamp('2013-10-29 00:00:00'), Timestamp('2013-10-31 00:00:00'), Timestamp('2013-11-01 00:00:00'), Timestamp('2013-11-03 00:00:00'), Timestamp('2013-11-04 00:00:00'), Timestamp('2013-11-05 00:00:00'), Timestamp('2013-11-06 00:00:00'), Timestamp('2013-11-07 00:00:00'), Timestamp('2013-11-08 00:00:00'), Timestamp('2013-11-10 00:00:00'), Timestamp('2013-11-11 00:00:00'), Timestamp('2013-11-12 00:00:00'), Timestamp('2013-11-14 00:00:00'), Timestamp('2013-11-15 00:00:00'), Timestamp('2013-11-18 00:00:00'), Timestamp('2013-11-19 00:00:00'), Timestamp('2013-11-20 00:00:00'), Timestamp('2013-11-21 00:00:00'), Timestamp('2013-11-22 00:00:00'), Timestamp('2013-11-23 00:00:00'), Timestamp('2013-11-25 00:00:00'), Timestamp('2013-11-27 00:00:00'), Timestamp('2013-12-02 00:00:00'), Timestamp('2013-12-04 00:00:00'), Timestamp('2013-12-09 00:00:00'), Timestamp('2013-12-10 00:00:00'), Timestamp('2013-12-11 00:00:00'), Timestamp('2013-12-12 00:00:00'), Timestamp('2013-12-13 00:00:00'), Timestamp('2013-12-16 00:00:00'), Timestamp('2013-12-18 00:00:00'), Timestamp('2013-12-19 00:00:00'), Timestamp('2013-12-22 00:00:00'), Timestamp('2013-12-26 00:00:00'), Timestamp('2014-01-01 00:00:00'), Timestamp('2014-01-03 00:00:00'), Timestamp('2014-01-06 00:00:00'), Timestamp('2014-01-09 00:00:00'), Timestamp('2014-01-13 00:00:00'), Timestamp('2014-01-14 00:00:00'), Timestamp('2014-01-17 00:00:00'), Timestamp('2014-01-27 00:00:00'), Timestamp('2014-02-01 00:00:00'), Timestamp('2014-02-04 00:00:00'), Timestamp('2014-02-06 00:00:00'), Timestamp('2014-02-07 00:00:00'), Timestamp('2014-02-11 00:00:00'), Timestamp('2014-02-12 00:00:00'), Timestamp('2014-02-14 00:00:00'), Timestamp('2014-02-15 00:00:00'), Timestamp('2014-02-20 00:00:00'), Timestamp('2014-02-21 00:00:00'), Timestamp('2014-02-24 00:00:00'), Timestamp('2014-02-26 00:00:00'), Timestamp('2014-02-27 00:00:00'), Timestamp('2014-02-28 00:00:00'), Timestamp('2014-03-03 00:00:00'), Timestamp('2014-03-04 00:00:00'), Timestamp('2014-03-06 00:00:00'), Timestamp('2014-03-07 00:00:00'), Timestamp('2014-03-10 00:00:00'), Timestamp('2014-03-12 00:00:00'), Timestamp('2014-03-14 00:00:00'), Timestamp('2014-03-18 00:00:00'), Timestamp('2014-03-25 00:00:00'), Timestamp('2014-03-26 00:00:00'), Timestamp('2014-03-31 00:00:00'), Timestamp('2014-04-01 00:00:00'), Timestamp('2014-04-02 00:00:00'), Timestamp('2014-04-07 00:00:00'), Timestamp('2014-04-09 00:00:00'), Timestamp('2014-04-15 00:00:00'), Timestamp('2014-04-17 00:00:00'), Timestamp('2014-04-22 00:00:00'), Timestamp('2014-04-25 00:00:00'), Timestamp('2014-04-28 00:00:00'), Timestamp('2014-05-16 00:00:00'), Timestamp('2014-05-19 00:00:00'), Timestamp('2014-05-21 00:00:00'), Timestamp('2014-05-30 00:00:00'), Timestamp('2014-06-01 00:00:00'), Timestamp('2014-06-11 00:00:00'), Timestamp('2014-06-13 00:00:00'), Timestamp('2014-06-24 00:00:00'), Timestamp('2014-07-01 00:00:00'), Timestamp('2014-07-09 00:00:00'), Timestamp('2014-08-11 00:00:00'), Timestamp('2014-08-14 00:00:00'), Timestamp('2014-08-18 00:00:00'), Timestamp('2014-08-20 00:00:00'), Timestamp('2014-08-21 00:00:00'), Timestamp('2014-08-23 00:00:00'), Timestamp('2014-08-26 00:00:00'), Timestamp('2014-08-27 00:00:00'), Timestamp('2014-08-28 00:00:00'), Timestamp('2014-09-01 00:00:00'), Timestamp('2014-09-02 00:00:00'), Timestamp('2014-09-03 00:00:00'), Timestamp('2014-09-04 00:00:00'), Timestamp('2014-09-05 00:00:00'), Timestamp('2014-09-09 00:00:00'), Timestamp('2014-09-10 00:00:00'), Timestamp('2014-09-12 00:00:00'), Timestamp('2014-09-15 00:00:00'), Timestamp('2014-09-16 00:00:00'), Timestamp('2014-09-17 00:00:00'), Timestamp('2014-09-18 00:00:00'), Timestamp('2014-09-19 00:00:00'), Timestamp('2014-09-22 00:00:00'), Timestamp('2014-09-23 00:00:00'), Timestamp('2014-09-24 00:00:00'), Timestamp('2014-09-25 00:00:00'), Timestamp('2014-09-26 00:00:00'), Timestamp('2014-09-29 00:00:00'), Timestamp('2014-09-30 00:00:00'), Timestamp('2014-10-01 00:00:00'), Timestamp('2014-10-02 00:00:00'), Timestamp('2014-10-03 00:00:00'), Timestamp('2014-10-06 00:00:00'), Timestamp('2014-10-07 00:00:00'), Timestamp('2014-10-08 00:00:00'), Timestamp('2014-10-09 00:00:00'), Timestamp('2014-10-10 00:00:00'), Timestamp('2014-10-13 00:00:00'), Timestamp('2014-10-15 00:00:00'), Timestamp('2014-10-16 00:00:00'), Timestamp('2014-10-17 00:00:00'), Timestamp('2014-10-19 00:00:00'), Timestamp('2014-10-20 00:00:00'), Timestamp('2014-10-21 00:00:00'), Timestamp('2014-10-22 00:00:00'), Timestamp('2014-10-23 00:00:00'), Timestamp('2014-10-24 00:00:00'), Timestamp('2014-10-27 00:00:00'), Timestamp('2014-10-28 00:00:00'), Timestamp('2014-10-29 00:00:00'), Timestamp('2014-10-30 00:00:00'), Timestamp('2014-10-31 00:00:00'), Timestamp('2014-11-01 00:00:00'), Timestamp('2014-11-03 00:00:00'), Timestamp('2014-11-04 00:00:00'), Timestamp('2014-11-05 00:00:00'), Timestamp('2014-11-06 00:00:00'), Timestamp('2014-11-07 00:00:00'), Timestamp('2014-11-10 00:00:00'), Timestamp('2014-11-12 00:00:00'), Timestamp('2014-11-13 00:00:00'), Timestamp('2014-11-14 00:00:00'), Timestamp('2014-11-15 00:00:00'), Timestamp('2014-11-16 00:00:00'), Timestamp('2014-11-17 00:00:00'), Timestamp('2014-11-18 00:00:00'), Timestamp('2014-11-20 00:00:00'), Timestamp('2014-11-21 00:00:00'), Timestamp('2014-11-24 00:00:00'), Timestamp('2014-11-25 00:00:00'), Timestamp('2014-11-27 00:00:00'), Timestamp('2014-12-01 00:00:00'), Timestamp('2014-12-02 00:00:00'), Timestamp('2014-12-05 00:00:00'), Timestamp('2014-12-10 00:00:00'), Timestamp('2014-12-11 00:00:00'), Timestamp('2014-12-15 00:00:00'), Timestamp('2014-12-17 00:00:00'), Timestamp('2014-12-18 00:00:00'), Timestamp('2014-12-19 00:00:00'), Timestamp('2014-12-26 00:00:00'), Timestamp('2014-12-30 00:00:00'), Timestamp('2015-01-01 00:00:00'), Timestamp('2015-01-04 00:00:00'), Timestamp('2015-01-05 00:00:00'), Timestamp('2015-01-06 00:00:00'), Timestamp('2015-01-07 00:00:00'), Timestamp('2015-01-13 00:00:00'), Timestamp('2015-01-14 00:00:00'), Timestamp('2015-01-15 00:00:00'), Timestamp('2015-01-16 00:00:00'), Timestamp('2015-01-20 00:00:00'), Timestamp('2015-01-22 00:00:00'), Timestamp('2015-01-28 00:00:00'), Timestamp('2015-02-02 00:00:00'), Timestamp('2015-02-06 00:00:00'), Timestamp('2015-02-09 00:00:00'), Timestamp('2015-02-10 00:00:00'), Timestamp('2015-02-12 00:00:00'), Timestamp('2015-02-17 00:00:00'), Timestamp('2015-02-24 00:00:00'), Timestamp('2015-02-25 00:00:00'), Timestamp('2015-02-26 00:00:00'), Timestamp('2015-02-27 00:00:00'), Timestamp('2015-03-02 00:00:00'), Timestamp('2015-03-03 00:00:00'), Timestamp('2015-03-05 00:00:00'), Timestamp('2015-03-09 00:00:00'), Timestamp('2015-03-10 00:00:00'), Timestamp('2015-03-13 00:00:00'), Timestamp('2015-03-15 00:00:00'), Timestamp('2015-03-16 00:00:00'), Timestamp('2015-03-20 00:00:00'), Timestamp('2015-03-30 00:00:00'), Timestamp('2015-03-31 00:00:00'), Timestamp('2015-04-01 00:00:00'), Timestamp('2015-04-02 00:00:00'), Timestamp('2015-04-08 00:00:00'), Timestamp('2015-04-09 00:00:00'), Timestamp('2015-04-11 00:00:00'), Timestamp('2015-04-12 00:00:00'), Timestamp('2015-04-13 00:00:00'), Timestamp('2015-04-16 00:00:00'), Timestamp('2015-04-21 00:00:00'), Timestamp('2015-04-22 00:00:00'), Timestamp('2015-04-28 00:00:00'), Timestamp('2015-05-01 00:00:00'), Timestamp('2015-05-04 00:00:00'), Timestamp('2015-05-11 00:00:00'), Timestamp('2015-05-27 00:00:00'), Timestamp('2015-06-01 00:00:00'), Timestamp('2015-06-04 00:00:00'), Timestamp('2015-06-08 00:00:00'), Timestamp('2015-06-17 00:00:00'), Timestamp('2015-06-18 00:00:00'), Timestamp('2015-06-19 00:00:00'), Timestamp('2015-06-23 00:00:00'), Timestamp('2015-06-24 00:00:00'), Timestamp('2015-06-30 00:00:00'), Timestamp('2015-08-01 00:00:00'), Timestamp('2015-08-10 00:00:00'), Timestamp('2015-08-12 00:00:00'), Timestamp('2015-08-13 00:00:00'), Timestamp('2015-08-14 00:00:00'), Timestamp('2015-08-17 00:00:00'), Timestamp('2015-08-18 00:00:00'), Timestamp('2015-08-20 00:00:00'), Timestamp('2015-08-25 00:00:00'), Timestamp('2015-08-26 00:00:00'), Timestamp('2015-08-27 00:00:00'), Timestamp('2015-08-28 00:00:00'), Timestamp('2015-08-31 00:00:00'), Timestamp('2015-09-01 00:00:00'), Timestamp('2015-09-02 00:00:00'), Timestamp('2015-09-04 00:00:00'), Timestamp('2015-09-08 00:00:00'), Timestamp('2015-09-09 00:00:00'), Timestamp('2015-09-11 00:00:00'), Timestamp('2015-09-12 00:00:00'), Timestamp('2015-09-14 00:00:00'), Timestamp('2015-09-15 00:00:00'), Timestamp('2015-09-16 00:00:00'), Timestamp('2015-09-17 00:00:00'), Timestamp('2015-09-18 00:00:00'), Timestamp('2015-09-21 00:00:00'), Timestamp('2015-09-22 00:00:00'), Timestamp('2015-09-23 00:00:00'), Timestamp('2015-09-24 00:00:00'), Timestamp('2015-09-25 00:00:00'), Timestamp('2015-09-26 00:00:00'), Timestamp('2015-09-28 00:00:00'), Timestamp('2015-09-29 00:00:00'), Timestamp('2015-09-30 00:00:00'), Timestamp('2015-10-01 00:00:00'), Timestamp('2015-10-02 00:00:00'), Timestamp('2015-10-05 00:00:00'), Timestamp('2015-10-06 00:00:00'), Timestamp('2015-10-07 00:00:00'), Timestamp('2015-10-08 00:00:00'), Timestamp('2015-10-09 00:00:00'), Timestamp('2015-10-12 00:00:00'), Timestamp('2015-10-13 00:00:00'), Timestamp('2015-10-14 00:00:00'), Timestamp('2015-10-15 00:00:00'), Timestamp('2015-10-16 00:00:00'), Timestamp('2015-10-19 00:00:00'), Timestamp('2015-10-20 00:00:00'), Timestamp('2015-10-21 00:00:00'), Timestamp('2015-10-22 00:00:00'), Timestamp('2015-10-23 00:00:00'), Timestamp('2015-10-26 00:00:00'), Timestamp('2015-10-27 00:00:00'), Timestamp('2015-10-28 00:00:00'), Timestamp('2015-10-29 00:00:00'), Timestamp('2015-10-30 00:00:00'), Timestamp('2015-11-01 00:00:00'), Timestamp('2015-11-02 00:00:00'), Timestamp('2015-11-03 00:00:00'), Timestamp('2015-11-04 00:00:00'), Timestamp('2015-11-05 00:00:00'), Timestamp('2015-11-06 00:00:00'), Timestamp('2015-11-09 00:00:00'), Timestamp('2015-11-10 00:00:00'), Timestamp('2015-11-11 00:00:00'), Timestamp('2015-11-12 00:00:00'), Timestamp('2015-11-13 00:00:00'), Timestamp('2015-11-15 00:00:00'), Timestamp('2015-11-19 00:00:00'), Timestamp('2015-11-20 00:00:00'), Timestamp('2015-11-21 00:00:00'), Timestamp('2015-11-24 00:00:00'), Timestamp('2015-11-25 00:00:00'), Timestamp('2015-12-01 00:00:00'), Timestamp('2015-12-04 00:00:00'), Timestamp('2015-12-07 00:00:00'), Timestamp('2015-12-11 00:00:00'), Timestamp('2015-12-15 00:00:00'), Timestamp('2015-12-16 00:00:00'), Timestamp('2015-12-29 00:00:00'), Timestamp('2016-01-01 00:00:00'), Timestamp('2016-01-04 00:00:00'), Timestamp('2016-01-06 00:00:00'), Timestamp('2016-01-07 00:00:00'), Timestamp('2016-01-08 00:00:00'), Timestamp('2016-01-11 00:00:00'), Timestamp('2016-01-12 00:00:00'), Timestamp('2016-01-14 00:00:00'), Timestamp('2016-01-20 00:00:00'), Timestamp('2016-01-25 00:00:00'), Timestamp('2016-01-26 00:00:00'), Timestamp('2016-01-27 00:00:00'), Timestamp('2016-01-28 00:00:00'), Timestamp('2016-01-29 00:00:00'), Timestamp('2016-02-01 00:00:00'), Timestamp('2016-02-02 00:00:00'), Timestamp('2016-02-08 00:00:00'), Timestamp('2016-02-12 00:00:00'), Timestamp('2016-02-17 00:00:00'), Timestamp('2016-02-24 00:00:00'), Timestamp('2016-02-26 00:00:00'), Timestamp('2016-02-29 00:00:00'), Timestamp('2016-03-01 00:00:00'), Timestamp('2016-03-04 00:00:00'), Timestamp('2016-03-08 00:00:00'), Timestamp('2016-03-09 00:00:00'), Timestamp('2016-03-15 00:00:00'), Timestamp('2016-03-29 00:00:00'), Timestamp('2016-03-30 00:00:00'), Timestamp('2016-03-31 00:00:00'), Timestamp('2016-04-01 00:00:00'), Timestamp('2016-04-07 00:00:00'), Timestamp('2016-04-11 00:00:00'), Timestamp('2016-04-12 00:00:00'), Timestamp('2016-04-15 00:00:00'), Timestamp('2016-04-21 00:00:00'), Timestamp('2016-05-03 00:00:00'), Timestamp('2016-05-12 00:00:00'), Timestamp('2016-05-20 00:00:00'), Timestamp('2016-05-24 00:00:00'), Timestamp('2016-06-13 00:00:00'), Timestamp('2016-06-15 00:00:00'), Timestamp('2016-06-16 00:00:00'), Timestamp('2016-06-24 00:00:00'), Timestamp('2016-07-07 00:00:00'), Timestamp('2016-08-01 00:00:00'), Timestamp('2016-08-26 00:00:00'), Timestamp('2016-08-29 00:00:00'), Timestamp('2016-09-01 00:00:00'), Timestamp('2016-09-11 00:00:00'), Timestamp('2016-09-12 00:00:00'), Timestamp('2016-09-13 00:00:00'), Timestamp('2016-09-14 00:00:00'), Timestamp('2016-09-15 00:00:00'), Timestamp('2016-09-19 00:00:00'), Timestamp('2016-09-21 00:00:00'), Timestamp('2016-09-22 00:00:00'), Timestamp('2016-09-23 00:00:00'), Timestamp('2016-09-28 00:00:00'), Timestamp('2016-09-29 00:00:00'), Timestamp('2016-09-30 00:00:00'), Timestamp('2016-10-03 00:00:00'), Timestamp('2016-10-05 00:00:00'), Timestamp('2016-10-07 00:00:00'), Timestamp('2016-10-10 00:00:00'), Timestamp('2016-10-11 00:00:00'), Timestamp('2016-10-12 00:00:00'), Timestamp('2016-10-14 00:00:00'), Timestamp('2016-10-17 00:00:00'), Timestamp('2016-10-18 00:00:00'), Timestamp('2016-10-21 00:00:00'), Timestamp('2016-10-24 00:00:00'), Timestamp('2016-10-26 00:00:00'), Timestamp('2016-10-28 00:00:00'), Timestamp('2016-11-03 00:00:00'), Timestamp('2016-11-04 00:00:00'), Timestamp('2016-11-05 00:00:00'), Timestamp('2016-11-10 00:00:00'), Timestamp('2016-11-11 00:00:00'), Timestamp('2016-11-14 00:00:00'), Timestamp('2016-11-15 00:00:00'), Timestamp('2016-11-18 00:00:00'), Timestamp('2016-11-22 00:00:00'), Timestamp('2016-11-23 00:00:00'), Timestamp('2016-11-30 00:00:00'), Timestamp('2016-12-02 00:00:00'), Timestamp('2016-12-09 00:00:00'), Timestamp('2016-12-14 00:00:00'), Timestamp('2016-12-16 00:00:00'), Timestamp('2016-12-18 00:00:00'), Timestamp('2016-12-20 00:00:00'), Timestamp('2016-12-23 00:00:00'), Timestamp('2016-12-30 00:00:00'), Timestamp('2017-01-06 00:00:00'), Timestamp('2017-01-13 00:00:00'), Timestamp('2017-01-20 00:00:00'), Timestamp('2017-01-23 00:00:00'), Timestamp('2017-01-26 00:00:00'), Timestamp('2017-01-27 00:00:00'), Timestamp('2017-02-03 00:00:00'), Timestamp('2017-02-09 00:00:00'), Timestamp('2017-02-10 00:00:00'), Timestamp('2017-02-16 00:00:00'), Timestamp('2017-02-17 00:00:00'), Timestamp('2017-02-24 00:00:00'), Timestamp('2017-02-28 00:00:00'), Timestamp('2017-03-03 00:00:00'), Timestamp('2017-03-10 00:00:00'), Timestamp('2017-03-17 00:00:00'), Timestamp('2017-03-21 00:00:00'), Timestamp('2017-03-23 00:00:00'), Timestamp('2017-03-24 00:00:00'), Timestamp('2017-03-31 00:00:00'), Timestamp('2017-04-07 00:00:00'), Timestamp('2017-04-14 00:00:00'), Timestamp('2017-04-21 00:00:00'), Timestamp('2017-05-02 00:00:00'), Timestamp('2017-05-05 00:00:00'), Timestamp('2017-05-07 00:00:00'), Timestamp('2017-05-19 00:00:00'), Timestamp('2017-05-22 00:00:00'), Timestamp('2017-05-26 00:00:00'), Timestamp('2017-06-02 00:00:00'), Timestamp('2017-06-07 00:00:00'), Timestamp('2017-06-15 00:00:00'), Timestamp('2017-06-23 00:00:00'), Timestamp('2017-06-27 00:00:00'), Timestamp('2017-08-03 00:00:00'), Timestamp('2017-08-21 00:00:00'), Timestamp('2017-08-24 00:00:00'), Timestamp('2017-09-01 00:00:00'), Timestamp('2017-09-10 00:00:00'), Timestamp('2017-09-11 00:00:00'), Timestamp('2017-09-15 00:00:00'), Timestamp('2017-09-19 00:00:00'), Timestamp('2017-09-22 00:00:00'), Timestamp('2017-09-24 00:00:00'), Timestamp('2017-09-27 00:00:00'), Timestamp('2017-09-29 00:00:00'), Timestamp('2017-10-03 00:00:00'), Timestamp('2017-10-05 00:00:00'), Timestamp('2017-10-06 00:00:00'), Timestamp('2017-10-09 00:00:00'), Timestamp('2017-10-13 00:00:00'), Timestamp('2017-10-18 00:00:00'), Timestamp('2017-10-20 00:00:00'), Timestamp('2017-10-27 00:00:00'), Timestamp('2017-10-31 00:00:00'), Timestamp('2017-11-01 00:00:00'), Timestamp('2017-11-03 00:00:00'), Timestamp('2017-11-05 00:00:00'), Timestamp('2017-11-07 00:00:00'), Timestamp('2017-11-09 00:00:00'), Timestamp('2017-11-10 00:00:00'), Timestamp('2017-11-15 00:00:00'), Timestamp('2017-11-16 00:00:00'), Timestamp('2017-11-17 00:00:00'), Timestamp('2017-11-18 00:00:00'), Timestamp('2017-11-20 00:00:00'), Timestamp('2017-11-21 00:00:00'), Timestamp('2017-11-22 00:00:00'), Timestamp('2017-11-29 00:00:00'), Timestamp('2017-12-01 00:00:00'), Timestamp('2017-12-08 00:00:00'), Timestamp('2017-12-15 00:00:00'), Timestamp('2017-12-22 00:00:00'), Timestamp('2017-12-27 00:00:00'), Timestamp('2017-12-29 00:00:00'), Timestamp('2018-01-08 00:00:00'), Timestamp('2018-01-10 00:00:00'), Timestamp('2018-01-12 00:00:00'), Timestamp('2018-01-17 00:00:00'), Timestamp('2018-01-19 00:00:00'), Timestamp('2018-01-20 00:00:00'), Timestamp('2018-01-24 00:00:00'), Timestamp('2018-01-25 00:00:00'), Timestamp('2018-01-26 00:00:00'), Timestamp('2018-02-02 00:00:00'), Timestamp('2018-02-09 00:00:00'), Timestamp('2018-02-15 00:00:00'), Timestamp('2018-02-16 00:00:00'), Timestamp('2018-02-23 00:00:00'), Timestamp('2018-03-02 00:00:00'), Timestamp('2018-03-09 00:00:00'), Timestamp('2018-03-16 00:00:00'), Timestamp('2018-03-23 00:00:00'), Timestamp('2018-03-30 00:00:00'), Timestamp('2018-04-06 00:00:00'), Timestamp('2018-04-11 00:00:00'), Timestamp('2018-04-13 00:00:00'), Timestamp('2018-04-20 00:00:00'), Timestamp('2018-04-27 00:00:00'), Timestamp('2018-05-04 00:00:00'), Timestamp('2018-05-11 00:00:00'), Timestamp('2018-05-18 00:00:00'), Timestamp('2018-05-25 00:00:00'), Timestamp('2018-06-01 00:00:00'), Timestamp('2018-06-08 00:00:00'), Timestamp('2018-06-15 00:00:00'), Timestamp('2018-06-29 00:00:00'), Timestamp('2018-07-06 00:00:00'), Timestamp('2018-08-12 00:00:00'), Timestamp('2018-08-13 00:00:00'), Timestamp('2018-08-19 00:00:00'), Timestamp('2018-09-06 00:00:00'), Timestamp('2018-09-09 00:00:00'), Timestamp('2018-09-10 00:00:00'), Timestamp('2018-09-11 00:00:00'), Timestamp('2018-09-14 00:00:00'), Timestamp('2018-09-21 00:00:00'), Timestamp('2018-09-24 00:00:00'), Timestamp('2018-09-25 00:00:00'), Timestamp('2018-09-28 00:00:00'), Timestamp('2018-10-02 00:00:00'), Timestamp('2018-10-03 00:00:00'), Timestamp('2018-10-05 00:00:00'), Timestamp('2018-10-12 00:00:00'), Timestamp('2018-10-19 00:00:00'), Timestamp('2018-10-25 00:00:00'), Timestamp('2018-10-26 00:00:00'), Timestamp('2018-11-01 00:00:00'), Timestamp('2018-11-02 00:00:00'), Timestamp('2018-11-09 00:00:00'), Timestamp('2018-11-15 00:00:00'), Timestamp('2018-11-16 00:00:00'), Timestamp('2018-11-21 00:00:00'), Timestamp('2018-11-30 00:00:00'), Timestamp('2018-12-03 00:00:00'), Timestamp('2018-12-07 00:00:00'), Timestamp('2018-12-14 00:00:00'), Timestamp('2018-12-21 00:00:00'), Timestamp('2018-12-28 00:00:00'), Timestamp('2019-01-03 00:00:00'), Timestamp('2019-01-07 00:00:00'), Timestamp('2019-01-11 00:00:00'), Timestamp('2019-01-18 00:00:00'), Timestamp('2019-01-25 00:00:00'), Timestamp('2019-01-28 00:00:00'), Timestamp('2019-02-01 00:00:00'), Timestamp('2019-02-08 00:00:00'), Timestamp('2019-02-10 00:00:00'), Timestamp('2019-02-15 00:00:00'), Timestamp('2019-02-22 00:00:00'), Timestamp('2019-03-01 00:00:00'), Timestamp('2019-03-08 00:00:00'), Timestamp('2019-03-15 00:00:00'), Timestamp('2019-03-21 00:00:00'), Timestamp('2019-03-22 00:00:00'), Timestamp('2019-03-23 00:00:00'), Timestamp('2019-03-29 00:00:00'), Timestamp('2019-04-12 00:00:00'), Timestamp('2019-04-15 00:00:00'), Timestamp('2019-04-19 00:00:00'), Timestamp('2019-05-10 00:00:00'), Timestamp('2019-05-20 00:00:00'), Timestamp('2019-05-24 00:00:00'), Timestamp('2019-05-31 00:00:00'), Timestamp('2019-06-14 00:00:00'), Timestamp('2019-06-21 00:00:00'), Timestamp('2019-07-02 00:00:00'), Timestamp('2019-08-20 00:00:00'), Timestamp('2019-08-29 00:00:00'), Timestamp('2019-09-02 00:00:00'), Timestamp('2019-09-03 00:00:00'), Timestamp('2019-09-09 00:00:00'), Timestamp('2019-09-10 00:00:00'), Timestamp('2019-09-11 00:00:00'), Timestamp('2019-09-12 00:00:00'), Timestamp('2019-09-17 00:00:00'), Timestamp('2019-09-18 00:00:00'), Timestamp('2019-09-20 00:00:00'), Timestamp('2019-09-27 00:00:00'), Timestamp('2019-10-01 00:00:00'), Timestamp('2019-10-02 00:00:00'), Timestamp('2019-10-04 00:00:00'), Timestamp('2019-10-07 00:00:00'), Timestamp('2019-10-08 00:00:00'), Timestamp('2019-10-10 00:00:00'), Timestamp('2019-10-11 00:00:00'), Timestamp('2019-10-16 00:00:00'), Timestamp('2019-10-17 00:00:00'), Timestamp('2019-10-18 00:00:00'), Timestamp('2019-10-21 00:00:00'), Timestamp('2019-10-22 00:00:00'), Timestamp('2019-10-23 00:00:00'), Timestamp('2019-10-25 00:00:00'), Timestamp('2019-10-28 00:00:00'), Timestamp('2019-10-29 00:00:00'), Timestamp('2019-11-01 00:00:00'), Timestamp('2019-11-02 00:00:00'), Timestamp('2019-11-03 00:00:00'), Timestamp('2019-11-06 00:00:00'), Timestamp('2019-11-07 00:00:00'), Timestamp('2019-11-08 00:00:00'), Timestamp('2019-11-11 00:00:00'), Timestamp('2019-11-13 00:00:00'), Timestamp('2019-11-14 00:00:00'), Timestamp('2019-11-15 00:00:00'), Timestamp('2019-11-20 00:00:00'), Timestamp('2019-11-21 00:00:00'), Timestamp('2019-11-27 00:00:00'), Timestamp('2019-12-01 00:00:00'), Timestamp('2019-12-06 00:00:00'), Timestamp('2019-12-07 00:00:00'), Timestamp('2019-12-09 00:00:00'), Timestamp('2019-12-12 00:00:00'), Timestamp('2019-12-15 00:00:00'), Timestamp('2019-12-17 00:00:00'), Timestamp('2019-12-20 00:00:00'), Timestamp('2019-12-26 00:00:00'), Timestamp('2020-01-03 00:00:00'), Timestamp('2020-01-04 00:00:00'), Timestamp('2020-01-10 00:00:00'), Timestamp('2020-01-17 00:00:00'), Timestamp('2020-01-21 00:00:00'), Timestamp('2020-01-24 00:00:00'), Timestamp('2020-01-31 00:00:00'), Timestamp('2020-02-01 00:00:00'), Timestamp('2020-02-07 00:00:00'), Timestamp('2020-02-12 00:00:00'), Timestamp('2020-02-14 00:00:00'), Timestamp('2020-02-20 00:00:00'), Timestamp('2020-02-21 00:00:00'), Timestamp('2020-02-27 00:00:00'), Timestamp('2020-02-28 00:00:00'), Timestamp('2020-03-05 00:00:00'), Timestamp('2020-03-07 00:00:00'), Timestamp('2020-03-10 00:00:00'), Timestamp('2020-03-11 00:00:00'), Timestamp('2020-03-23 00:00:00'), Timestamp('2020-03-26 00:00:00'), Timestamp('2020-04-03 00:00:00'), Timestamp('2020-04-17 00:00:00'), Timestamp('2020-05-01 00:00:00'), Timestamp('2020-05-15 00:00:00'), Timestamp('2020-06-03 00:00:00'), Timestamp('2020-06-05 00:00:00'), Timestamp('2020-06-10 00:00:00'), Timestamp('2020-07-01 00:00:00'), Timestamp('2020-07-17 00:00:00'), Timestamp('2020-09-07 00:00:00'), Timestamp('2020-09-16 00:00:00'), Timestamp('2020-09-17 00:00:00'), Timestamp('2020-09-18 00:00:00'), Timestamp('2020-09-23 00:00:00'), Timestamp('2020-09-25 00:00:00'), Timestamp('2020-09-30 00:00:00'), Timestamp('2020-10-01 00:00:00'), Timestamp('2020-10-02 00:00:00'), Timestamp('2020-10-06 00:00:00'), Timestamp('2020-10-11 00:00:00'), Timestamp('2020-10-18 00:00:00'), Timestamp('2020-10-20 00:00:00'), Timestamp('2020-10-23 00:00:00'), Timestamp('2020-10-25 00:00:00'), Timestamp('2020-10-26 00:00:00'), Timestamp('2020-10-27 00:00:00'), Timestamp('2020-10-28 00:00:00'), Timestamp('2020-10-29 00:00:00'), Timestamp('2020-11-03 00:00:00'), Timestamp('2020-11-05 00:00:00'), Timestamp('2020-11-12 00:00:00'), Timestamp('2020-11-16 00:00:00'), Timestamp('2020-11-17 00:00:00'), Timestamp('2020-11-20 00:00:00'), Timestamp('2020-11-23 00:00:00'), Timestamp('2020-11-24 00:00:00'), Timestamp('2020-12-01 00:00:00'), Timestamp('2020-12-03 00:00:00'), Timestamp('2020-12-10 00:00:00'), Timestamp('2020-12-12 00:00:00'), Timestamp('2020-12-18 00:00:00'), Timestamp('2020-12-20 00:00:00'), Timestamp('2020-12-24 00:00:00'), Timestamp('2021-01-08 00:00:00'), Timestamp('2021-01-09 00:00:00'), Timestamp('2021-01-15 00:00:00'), Timestamp('2021-01-21 00:00:00'), Timestamp('2021-01-27 00:00:00'), Timestamp('2021-02-09 00:00:00'), Timestamp('2021-02-12 00:00:00'), Timestamp('2021-02-22 00:00:00'), Timestamp('2021-02-25 00:00:00'), Timestamp('2021-02-28 00:00:00'), Timestamp('2021-03-03 00:00:00'), Timestamp('2021-03-05 00:00:00'), Timestamp('2021-03-12 00:00:00'), Timestamp('2021-03-13 00:00:00'), Timestamp('2021-03-15 00:00:00'), Timestamp('2021-03-17 00:00:00'), Timestamp('2021-03-19 00:00:00'), Timestamp('2021-03-25 00:00:00'), Timestamp('2021-03-26 00:00:00'), Timestamp('2021-04-02 00:00:00'), Timestamp('2021-04-04 00:00:00'), Timestamp('2021-04-08 00:00:00'), Timestamp('2021-04-10 00:00:00'), Timestamp('2021-04-14 00:00:00'), Timestamp('2021-04-20 00:00:00'), Timestamp('2021-04-22 00:00:00'), Timestamp('2021-04-27 00:00:00'), Timestamp('2021-04-30 00:00:00'), Timestamp('2021-05-03 00:00:00'), Timestamp('2021-05-05 00:00:00'), Timestamp('2021-05-13 00:00:00'), Timestamp('2021-05-14 00:00:00'), Timestamp('2021-05-18 00:00:00'), Timestamp('2021-05-19 00:00:00'), Timestamp('2021-05-20 00:00:00'), Timestamp('2021-05-28 00:00:00'), Timestamp('2021-06-04 00:00:00'), Timestamp('2021-06-07 00:00:00'), Timestamp('2021-06-08 00:00:00'), Timestamp('2021-06-14 00:00:00'), Timestamp('2021-06-21 00:00:00'), Timestamp('2021-06-30 00:00:00'), Timestamp('2021-07-06 00:00:00'), Timestamp('2021-07-29 00:00:00'), Timestamp('2021-08-24 00:00:00'), Timestamp('2021-08-30 00:00:00'), Timestamp('2021-09-01 00:00:00'), Timestamp('2021-09-08 00:00:00'), Timestamp('2021-09-09 00:00:00'), Timestamp('2021-09-10 00:00:00'), Timestamp('2021-09-13 00:00:00'), Timestamp('2021-09-14 00:00:00'), Timestamp('2021-09-15 00:00:00'), Timestamp('2021-09-16 00:00:00'), Timestamp('2021-09-17 00:00:00'), Timestamp('2021-09-20 00:00:00'), Timestamp('2021-09-22 00:00:00'), Timestamp('2021-09-23 00:00:00'), Timestamp('2021-09-24 00:00:00'), Timestamp('2021-09-25 00:00:00'), Timestamp('2021-09-29 00:00:00'), Timestamp('2021-09-30 00:00:00'), Timestamp('2021-10-03 00:00:00'), Timestamp('2021-10-05 00:00:00'), Timestamp('2021-10-09 00:00:00'), Timestamp('2021-10-10 00:00:00'), Timestamp('2021-10-11 00:00:00'), Timestamp('2021-10-14 00:00:00'), Timestamp('2021-10-18 00:00:00'), Timestamp('2021-10-19 00:00:00'), Timestamp('2021-10-20 00:00:00'), Timestamp('2021-10-21 00:00:00'), Timestamp('2021-10-25 00:00:00'), Timestamp('2021-10-27 00:00:00'), Timestamp('2021-10-28 00:00:00'), Timestamp('2021-11-01 00:00:00'), Timestamp('2021-11-02 00:00:00'), Timestamp('2021-11-03 00:00:00'), Timestamp('2021-11-04 00:00:00'), Timestamp('2021-11-05 00:00:00'), Timestamp('2021-11-07 00:00:00'), Timestamp('2021-11-09 00:00:00'), Timestamp('2021-11-11 00:00:00'), Timestamp('2021-11-12 00:00:00'), Timestamp('2021-11-15 00:00:00'), Timestamp('2021-11-16 00:00:00'), Timestamp('2021-11-17 00:00:00'), Timestamp('2021-11-18 00:00:00'), Timestamp('2021-11-19 00:00:00'), Timestamp('2021-11-26 00:00:00'), Timestamp('2021-11-27 00:00:00'), Timestamp('2021-11-30 00:00:00'), Timestamp('2021-12-01 00:00:00'), Timestamp('2021-12-05 00:00:00'), Timestamp('2021-12-07 00:00:00'), Timestamp('2021-12-08 00:00:00'), Timestamp('2021-12-09 00:00:00'), Timestamp('2021-12-12 00:00:00'), Timestamp('2021-12-14 00:00:00'), Timestamp('2021-12-20 00:00:00'), Timestamp('2021-12-26 00:00:00'), Timestamp('2021-12-29 00:00:00'), Timestamp('2022-01-03 00:00:00'), Timestamp('2022-01-04 00:00:00'), Timestamp('2022-01-07 00:00:00'), Timestamp('2022-01-16 00:00:00'), Timestamp('2022-01-20 00:00:00'), Timestamp('2022-01-24 00:00:00'), Timestamp('2022-01-25 00:00:00'), Timestamp('2022-01-27 00:00:00'), Timestamp('2022-02-01 00:00:00'), Timestamp('2022-02-02 00:00:00'), Timestamp('2022-02-03 00:00:00'), Timestamp('2022-02-05 00:00:00'), Timestamp('2022-02-07 00:00:00'), Timestamp('2022-02-10 00:00:00'), Timestamp('2022-02-18 00:00:00'), Timestamp('2022-02-22 00:00:00'), Timestamp('2022-02-23 00:00:00'), Timestamp('2022-02-24 00:00:00'), Timestamp('2022-02-28 00:00:00'), Timestamp('2022-03-02 00:00:00'), Timestamp('2022-03-06 00:00:00'), Timestamp('2022-03-08 00:00:00'), Timestamp('2022-03-09 00:00:00'), Timestamp('2022-03-10 00:00:00'), Timestamp('2022-03-17 00:00:00'), Timestamp('2022-03-23 00:00:00'), Timestamp('2022-03-25 00:00:00'), Timestamp('2022-03-29 00:00:00'), Timestamp('2022-03-30 00:00:00'), Timestamp('2022-04-05 00:00:00'), Timestamp('2022-04-07 00:00:00'), Timestamp('2022-04-11 00:00:00'), Timestamp('2022-04-13 00:00:00'), Timestamp('2022-04-19 00:00:00'), Timestamp('2022-04-25 00:00:00'), Timestamp('2022-04-26 00:00:00'), Timestamp('2022-05-04 00:00:00'), Timestamp('2022-05-09 00:00:00'), Timestamp('2022-05-13 00:00:00'), Timestamp('2022-05-19 00:00:00'), Timestamp('2022-05-20 00:00:00'), Timestamp('2022-05-25 00:00:00'), Timestamp('2022-05-26 00:00:00'), Timestamp('2022-05-27 00:00:00'), Timestamp('2022-05-30 00:00:00'), Timestamp('2022-06-02 00:00:00'), Timestamp('2022-06-13 00:00:00'), Timestamp('2022-06-22 00:00:00'), Timestamp('2022-08-17 00:00:00'), Timestamp('2022-08-29 00:00:00'), Timestamp('2022-09-01 00:00:00'), Timestamp('2022-09-06 00:00:00'), Timestamp('2022-09-08 00:00:00'), Timestamp('2022-09-12 00:00:00'), Timestamp('2022-09-14 00:00:00'), Timestamp('2022-09-15 00:00:00'), Timestamp('2022-09-16 00:00:00'), Timestamp('2022-09-19 00:00:00'), Timestamp('2022-09-20 00:00:00'), Timestamp('2022-09-22 00:00:00'), Timestamp('2022-09-24 00:00:00'), Timestamp('2022-09-28 00:00:00'), Timestamp('2022-10-02 00:00:00'), Timestamp('2022-10-04 00:00:00'), Timestamp('2022-10-05 00:00:00'), Timestamp('2022-10-06 00:00:00'), Timestamp('2022-10-10 00:00:00'), Timestamp('2022-10-11 00:00:00'), Timestamp('2022-10-13 00:00:00'), Timestamp('2022-10-18 00:00:00'), Timestamp('2022-10-20 00:00:00'), Timestamp('2022-10-21 00:00:00'), Timestamp('2022-10-26 00:00:00'), Timestamp('2022-10-27 00:00:00'), Timestamp('2022-10-28 00:00:00'), Timestamp('2022-11-01 00:00:00'), Timestamp('2022-11-05 00:00:00'), Timestamp('2022-11-08 00:00:00'), Timestamp('2022-11-09 00:00:00'), Timestamp('2022-11-11 00:00:00'), Timestamp('2022-11-14 00:00:00'), Timestamp('2022-11-15 00:00:00'), Timestamp('2022-11-17 00:00:00'), Timestamp('2022-11-18 00:00:00'), Timestamp('2022-11-20 00:00:00'), Timestamp('2022-11-22 00:00:00'), Timestamp('2022-11-28 00:00:00'), Timestamp('2022-11-29 00:00:00'), Timestamp('2022-12-02 00:00:00'), Timestamp('2022-12-04 00:00:00'), Timestamp('2022-12-05 00:00:00'), Timestamp('2022-12-08 00:00:00'), Timestamp('2022-12-20 00:00:00'), Timestamp('2023-01-04 00:00:00'), Timestamp('2023-01-10 00:00:00'), Timestamp('2023-01-16 00:00:00'), Timestamp('2023-01-19 00:00:00'), Timestamp('2023-01-27 00:00:00'), Timestamp('2023-02-02 00:00:00'), Timestamp('2023-02-09 00:00:00'), Timestamp('2023-02-16 00:00:00'), Timestamp('2023-02-17 00:00:00'), Timestamp('2023-02-27 00:00:00'), Timestamp('2023-03-08 00:00:00'), Timestamp('2023-03-10 00:00:00'), Timestamp('2023-03-17 00:00:00'), Timestamp('2023-03-22 00:00:00'), Timestamp('2023-03-24 00:00:00'), Timestamp('2023-03-29 00:00:00'), Timestamp('2023-04-11 00:00:00'), Timestamp('2023-04-18 00:00:00'), Timestamp('2023-05-01 00:00:00'), Timestamp('2023-05-10 00:00:00'), Timestamp('2023-05-16 00:00:00'), Timestamp('2023-05-23 00:00:00'), Timestamp('2023-06-05 00:00:00'), Timestamp('2023-06-13 00:00:00'), Timestamp('2023-06-23 00:00:00'), Timestamp('2023-07-05 00:00:00'), Timestamp('2023-08-01 00:00:00'), Timestamp('2023-08-10 00:00:00'), Timestamp('2023-08-28 00:00:00'), Timestamp('2023-09-01 00:00:00'), Timestamp('2023-09-08 00:00:00'), Timestamp('2023-09-09 00:00:00'), Timestamp('2023-09-12 00:00:00'), Timestamp('2023-09-13 00:00:00'), Timestamp('2023-09-14 00:00:00'), Timestamp('2023-09-18 00:00:00'), Timestamp('2023-09-24 00:00:00'), Timestamp('2023-09-26 00:00:00'), Timestamp('2023-09-30 00:00:00'), Timestamp('2023-10-02 00:00:00'), Timestamp('2023-10-03 00:00:00'), Timestamp('2023-10-05 00:00:00'), Timestamp('2023-10-06 00:00:00'), Timestamp('2023-10-09 00:00:00'), Timestamp('2023-10-12 00:00:00'), Timestamp('2023-10-16 00:00:00'), Timestamp('2023-10-19 00:00:00'), Timestamp('2023-10-20 00:00:00'), Timestamp('2023-10-22 00:00:00'), Timestamp('2023-10-30 00:00:00'), Timestamp('2023-11-07 00:00:00'), Timestamp('2023-11-08 00:00:00'), Timestamp('2023-11-13 00:00:00'), Timestamp('2023-11-17 00:00:00'), Timestamp('2023-11-27 00:00:00'), Timestamp('2023-11-30 00:00:00'), Timestamp('2023-12-04 00:00:00'), Timestamp('2023-12-13 00:00:00'), Timestamp('2023-12-19 00:00:00'), Timestamp('2024-01-02 00:00:00'), Timestamp('2024-01-05 00:00:00'), Timestamp('2024-01-10 00:00:00'), Timestamp('2024-01-15 00:00:00'), Timestamp('2024-01-24 00:00:00'), Timestamp('2024-01-29 00:00:00'), Timestamp('2024-02-08 00:00:00'), Timestamp('2024-02-15 00:00:00'), Timestamp('2024-02-21 00:00:00'), Timestamp('2024-03-11 00:00:00'), Timestamp('2024-03-25 00:00:00'), Timestamp('2024-03-26 00:00:00'), Timestamp('2024-04-02 00:00:00'), Timestamp('2024-04-14 00:00:00'), Timestamp('2024-04-18 00:00:00'), Timestamp('2024-04-25 00:00:00'), Timestamp('2024-04-30 00:00:00'), Timestamp('2024-05-09 00:00:00'), Timestamp('2024-05-30 00:00:00'), Timestamp('2024-06-05 00:00:00'), Timestamp('2024-06-26 00:00:00'), Timestamp('2024-08-20 00:00:00'), Timestamp('2024-08-24 00:00:00'), Timestamp('2024-08-26 00:00:00'), Timestamp('2024-09-02 00:00:00'), Timestamp('2024-09-05 00:00:00'), Timestamp('2024-09-09 00:00:00'), Timestamp('2024-09-12 00:00:00'), Timestamp('2024-09-16 00:00:00'), Timestamp('2024-09-17 00:00:00'), Timestamp('2024-09-19 00:00:00'), Timestamp('2024-09-20 00:00:00'), Timestamp('2024-09-23 00:00:00'), Timestamp('2024-09-24 00:00:00'), Timestamp('2024-09-25 00:00:00'), Timestamp('2024-10-01 00:00:00'), Timestamp('2024-10-02 00:00:00'), Timestamp('2024-10-07 00:00:00'), Timestamp('2024-10-09 00:00:00'), Timestamp('2024-10-14 00:00:00'), Timestamp('2024-10-21 00:00:00'), Timestamp('2024-10-22 00:00:00'), Timestamp('2024-10-29 00:00:00'), Timestamp('2024-11-04 00:00:00'), Timestamp('2024-11-05 00:00:00'), Timestamp('2024-11-08 00:00:00'), Timestamp('2024-11-11 00:00:00'), Timestamp('2024-11-14 00:00:00'), Timestamp('2024-11-18 00:00:00'), Timestamp('2024-11-26 00:00:00'), Timestamp('2024-11-27 00:00:00'), Timestamp('2024-12-05 00:00:00'), Timestamp('2024-12-06 00:00:00'), Timestamp('2024-12-17 00:00:00'), Timestamp('2024-12-24 00:00:00'), Timestamp('2025-01-16 00:00:00'), Timestamp('2025-01-23 00:00:00'), Timestamp('2025-01-25 00:00:00'), Timestamp('2025-01-30 00:00:00'), Timestamp('2025-02-06 00:00:00'), Timestamp('2025-02-19 00:00:00'), Timestamp('2025-03-05 00:00:00'), Timestamp('2025-03-07 00:00:00')]\n",
      "['01/01/1900', '09/15/2012', '01/15/2013', '01/20/2013', '01/23/2013', '01/24/2013', '01/28/2013', '02/01/2013', '02/03/2013', '02/04/2013', '02/13/2013', '08/15/2013', '08/16/2013', '08/19/2013', '08/21/2013', '08/23/2013', '08/26/2013', '08/27/2013', '08/28/2013', '08/30/2013', '09/01/2013', '09/02/2013', '09/03/2013', '09/04/2013', '09/05/2013', '09/06/2013', '09/08/2013', '09/09/2013', '09/10/2013', '09/11/2013', '09/12/2013', '09/13/2013', '09/14/2013', '09/15/2013', '09/16/2013', '09/17/2013', '09/18/2013', '09/19/2013', '09/20/2013', '09/23/2013', '09/24/2013', '09/25/2013', '09/26/2013', '09/27/2013', '09/30/2013', '10/01/2013', '10/02/2013', '10/03/2013', '10/04/2013', '10/07/2013', '10/08/2013', '10/09/2013', '10/10/2013', '10/11/2013', '10/12/2013', '10/14/2013', '10/15/2013', '10/16/2013', '10/17/2013', '10/18/2013', '10/21/2013', '10/22/2013', '10/23/2013', '10/24/2013', '10/25/2013', '10/27/2013', '10/28/2013', '10/29/2013', '10/31/2013', '11/01/2013', '11/03/2013', '11/04/2013', '11/05/2013', '11/06/2013', '11/07/2013', '11/08/2013', '11/10/2013', '11/11/2013', '11/12/2013', '11/14/2013', '11/15/2013', '11/18/2013', '11/19/2013', '11/20/2013', '11/21/2013', '11/22/2013', '11/23/2013', '11/25/2013', '11/27/2013', '12/02/2013', '12/04/2013', '12/09/2013', '12/10/2013', '12/11/2013', '12/12/2013', '12/13/2013', '12/16/2013', '12/18/2013', '12/19/2013', '12/22/2013', '12/26/2013', '01/01/2014', '01/03/2014', '01/06/2014', '01/09/2014', '01/13/2014', '01/14/2014', '01/17/2014', '01/27/2014', '02/01/2014', '02/04/2014', '02/06/2014', '02/07/2014', '02/11/2014', '02/12/2014', '02/14/2014', '02/15/2014', '02/20/2014', '02/21/2014', '02/24/2014', '02/26/2014', '02/27/2014', '02/28/2014', '03/03/2014', '03/04/2014', '03/06/2014', '03/07/2014', '03/10/2014', '03/12/2014', '03/14/2014', '03/18/2014', '03/25/2014', '03/26/2014', '03/31/2014', '04/01/2014', '04/02/2014', '04/07/2014', '04/09/2014', '04/15/2014', '04/17/2014', '04/22/2014', '04/25/2014', '04/28/2014', '05/16/2014', '05/19/2014', '05/21/2014', '05/30/2014', '06/01/2014', '06/11/2014', '06/13/2014', '06/24/2014', '07/01/2014', '07/09/2014', '08/11/2014', '08/14/2014', '08/18/2014', '08/20/2014', '08/21/2014', '08/23/2014', '08/26/2014', '08/27/2014', '08/28/2014', '09/01/2014', '09/02/2014', '09/03/2014', '09/04/2014', '09/05/2014', '09/09/2014', '09/10/2014', '09/12/2014', '09/15/2014', '09/16/2014', '09/17/2014', '09/18/2014', '09/19/2014', '09/22/2014', '09/23/2014', '09/24/2014', '09/25/2014', '09/26/2014', '09/29/2014', '09/30/2014', '10/01/2014', '10/02/2014', '10/03/2014', '10/06/2014', '10/07/2014', '10/08/2014', '10/09/2014', '10/10/2014', '10/13/2014', '10/15/2014', '10/16/2014', '10/17/2014', '10/19/2014', '10/20/2014', '10/21/2014', '10/22/2014', '10/23/2014', '10/24/2014', '10/27/2014', '10/28/2014', '10/29/2014', '10/30/2014', '10/31/2014', '11/01/2014', '11/03/2014', '11/04/2014', '11/05/2014', '11/06/2014', '11/07/2014', '11/10/2014', '11/12/2014', '11/13/2014', '11/14/2014', '11/15/2014', '11/16/2014', '11/17/2014', '11/18/2014', '11/20/2014', '11/21/2014', '11/24/2014', '11/25/2014', '11/27/2014', '12/01/2014', '12/02/2014', '12/05/2014', '12/10/2014', '12/11/2014', '12/15/2014', '12/17/2014', '12/18/2014', '12/19/2014', '12/26/2014', '12/30/2014', '01/01/2015', '01/04/2015', '01/05/2015', '01/06/2015', '01/07/2015', '01/13/2015', '01/14/2015', '01/15/2015', '01/16/2015', '01/20/2015', '01/22/2015', '01/28/2015', '02/02/2015', '02/06/2015', '02/09/2015', '02/10/2015', '02/12/2015', '02/17/2015', '02/24/2015', '02/25/2015', '02/26/2015', '02/27/2015', '03/02/2015', '03/03/2015', '03/05/2015', '03/09/2015', '03/10/2015', '03/13/2015', '03/15/2015', '03/16/2015', '03/20/2015', '03/30/2015', '03/31/2015', '04/01/2015', '04/02/2015', '04/08/2015', '04/09/2015', '04/11/2015', '04/12/2015', '04/13/2015', '04/16/2015', '04/21/2015', '04/22/2015', '04/28/2015', '05/01/2015', '05/04/2015', '05/11/2015', '05/27/2015', '06/01/2015', '06/04/2015', '06/08/2015', '06/17/2015', '06/18/2015', '06/19/2015', '06/23/2015', '06/24/2015', '06/30/2015', '08/01/2015', '08/10/2015', '08/12/2015', '08/13/2015', '08/14/2015', '08/17/2015', '08/18/2015', '08/20/2015', '08/25/2015', '08/26/2015', '08/27/2015', '08/28/2015', '08/31/2015', '09/01/2015', '09/02/2015', '09/04/2015', '09/08/2015', '09/09/2015', '09/11/2015', '09/12/2015', '09/14/2015', '09/15/2015', '09/16/2015', '09/17/2015', '09/18/2015', '09/21/2015', '09/22/2015', '09/23/2015', '09/24/2015', '09/25/2015', '09/26/2015', '09/28/2015', '09/29/2015', '09/30/2015', '10/01/2015', '10/02/2015', '10/05/2015', '10/06/2015', '10/07/2015', '10/08/2015', '10/09/2015', '10/12/2015', '10/13/2015', '10/14/2015', '10/15/2015', '10/16/2015', '10/19/2015', '10/20/2015', '10/21/2015', '10/22/2015', '10/23/2015', '10/26/2015', '10/27/2015', '10/28/2015', '10/29/2015', '10/30/2015', '11/01/2015', '11/02/2015', '11/03/2015', '11/04/2015', '11/05/2015', '11/06/2015', '11/09/2015', '11/10/2015', '11/11/2015', '11/12/2015', '11/13/2015', '11/15/2015', '11/19/2015', '11/20/2015', '11/21/2015', '11/24/2015', '11/25/2015', '12/01/2015', '12/04/2015', '12/07/2015', '12/11/2015', '12/15/2015', '12/16/2015', '12/29/2015', '01/01/2016', '01/04/2016', '01/06/2016', '01/07/2016', '01/08/2016', '01/11/2016', '01/12/2016', '01/14/2016', '01/20/2016', '01/25/2016', '01/26/2016', '01/27/2016', '01/28/2016', '01/29/2016', '02/01/2016', '02/02/2016', '02/08/2016', '02/12/2016', '02/17/2016', '02/24/2016', '02/26/2016', '02/29/2016', '03/01/2016', '03/04/2016', '03/08/2016', '03/09/2016', '03/15/2016', '03/29/2016', '03/30/2016', '03/31/2016', '04/01/2016', '04/07/2016', '04/11/2016', '04/12/2016', '04/15/2016', '04/21/2016', '05/03/2016', '05/12/2016', '05/20/2016', '05/24/2016', '06/13/2016', '06/15/2016', '06/16/2016', '06/24/2016', '07/07/2016', '08/01/2016', '08/26/2016', '08/29/2016', '09/01/2016', '09/11/2016', '09/12/2016', '09/13/2016', '09/14/2016', '09/15/2016', '09/19/2016', '09/21/2016', '09/22/2016', '09/23/2016', '09/28/2016', '09/29/2016', '09/30/2016', '10/03/2016', '10/05/2016', '10/07/2016', '10/10/2016', '10/11/2016', '10/12/2016', '10/14/2016', '10/17/2016', '10/18/2016', '10/21/2016', '10/24/2016', '10/26/2016', '10/28/2016', '11/03/2016', '11/04/2016', '11/05/2016', '11/10/2016', '11/11/2016', '11/14/2016', '11/15/2016', '11/18/2016', '11/22/2016', '11/23/2016', '11/30/2016', '12/02/2016', '12/09/2016', '12/14/2016', '12/16/2016', '12/18/2016', '12/20/2016', '12/23/2016', '12/30/2016', '01/06/2017', '01/13/2017', '01/20/2017', '01/23/2017', '01/26/2017', '01/27/2017', '02/03/2017', '02/09/2017', '02/10/2017', '02/16/2017', '02/17/2017', '02/24/2017', '02/28/2017', '03/03/2017', '03/10/2017', '03/17/2017', '03/21/2017', '03/23/2017', '03/24/2017', '03/31/2017', '04/07/2017', '04/14/2017', '04/21/2017', '05/02/2017', '05/05/2017', '05/07/2017', '05/19/2017', '05/22/2017', '05/26/2017', '06/02/2017', '06/07/2017', '06/15/2017', '06/23/2017', '06/27/2017', '08/03/2017', '08/21/2017', '08/24/2017', '09/01/2017', '09/10/2017', '09/11/2017', '09/15/2017', '09/19/2017', '09/22/2017', '09/24/2017', '09/27/2017', '09/29/2017', '10/03/2017', '10/05/2017', '10/06/2017', '10/09/2017', '10/13/2017', '10/18/2017', '10/20/2017', '10/27/2017', '10/31/2017', '11/01/2017', '11/03/2017', '11/05/2017', '11/07/2017', '11/09/2017', '11/10/2017', '11/15/2017', '11/16/2017', '11/17/2017', '11/18/2017', '11/20/2017', '11/21/2017', '11/22/2017', '11/29/2017', '12/01/2017', '12/08/2017', '12/15/2017', '12/22/2017', '12/27/2017', '12/29/2017', '01/08/2018', '01/10/2018', '01/12/2018', '01/17/2018', '01/19/2018', '01/20/2018', '01/24/2018', '01/25/2018', '01/26/2018', '02/02/2018', '02/09/2018', '02/15/2018', '02/16/2018', '02/23/2018', '03/02/2018', '03/09/2018', '03/16/2018', '03/23/2018', '03/30/2018', '04/06/2018', '04/11/2018', '04/13/2018', '04/20/2018', '04/27/2018', '05/04/2018', '05/11/2018', '05/18/2018', '05/25/2018', '06/01/2018', '06/08/2018', '06/15/2018', '06/29/2018', '07/06/2018', '08/12/2018', '08/13/2018', '08/19/2018', '09/06/2018', '09/09/2018', '09/10/2018', '09/11/2018', '09/14/2018', '09/21/2018', '09/24/2018', '09/25/2018', '09/28/2018', '10/02/2018', '10/03/2018', '10/05/2018', '10/12/2018', '10/19/2018', '10/25/2018', '10/26/2018', '11/01/2018', '11/02/2018', '11/09/2018', '11/15/2018', '11/16/2018', '11/21/2018', '11/30/2018', '12/03/2018', '12/07/2018', '12/14/2018', '12/21/2018', '12/28/2018', '01/03/2019', '01/07/2019', '01/11/2019', '01/18/2019', '01/25/2019', '01/28/2019', '02/01/2019', '02/08/2019', '02/10/2019', '02/15/2019', '02/22/2019', '03/01/2019', '03/08/2019', '03/15/2019', '03/21/2019', '03/22/2019', '03/23/2019', '03/29/2019', '04/12/2019', '04/15/2019', '04/19/2019', '05/10/2019', '05/20/2019', '05/24/2019', '05/31/2019', '06/14/2019', '06/21/2019', '07/02/2019', '08/20/2019', '08/29/2019', '09/02/2019', '09/03/2019', '09/09/2019', '09/10/2019', '09/11/2019', '09/12/2019', '09/17/2019', '09/18/2019', '09/20/2019', '09/27/2019', '10/01/2019', '10/02/2019', '10/04/2019', '10/07/2019', '10/08/2019', '10/10/2019', '10/11/2019', '10/16/2019', '10/17/2019', '10/18/2019', '10/21/2019', '10/22/2019', '10/23/2019', '10/25/2019', '10/28/2019', '10/29/2019', '11/01/2019', '11/02/2019', '11/03/2019', '11/06/2019', '11/07/2019', '11/08/2019', '11/11/2019', '11/13/2019', '11/14/2019', '11/15/2019', '11/20/2019', '11/21/2019', '11/27/2019', '12/01/2019', '12/06/2019', '12/07/2019', '12/09/2019', '12/12/2019', '12/15/2019', '12/17/2019', '12/20/2019', '12/26/2019', '01/03/2020', '01/04/2020', '01/10/2020', '01/17/2020', '01/21/2020', '01/24/2020', '01/31/2020', '02/01/2020', '02/07/2020', '02/12/2020', '02/14/2020', '02/20/2020', '02/21/2020', '02/27/2020', '02/28/2020', '03/05/2020', '03/07/2020', '03/10/2020', '03/11/2020', '03/23/2020', '03/26/2020', '04/03/2020', '04/17/2020', '05/01/2020', '05/15/2020', '06/03/2020', '06/05/2020', '06/10/2020', '07/01/2020', '07/17/2020', '09/07/2020', '09/16/2020', '09/17/2020', '09/18/2020', '09/23/2020', '09/25/2020', '09/30/2020', '10/01/2020', '10/02/2020', '10/06/2020', '10/11/2020', '10/18/2020', '10/20/2020', '10/23/2020', '10/25/2020', '10/26/2020', '10/27/2020', '10/28/2020', '10/29/2020', '11/03/2020', '11/05/2020', '11/12/2020', '11/16/2020', '11/17/2020', '11/20/2020', '11/23/2020', '11/24/2020', '12/01/2020', '12/03/2020', '12/10/2020', '12/12/2020', '12/18/2020', '12/20/2020', '12/24/2020', '01/08/2021', '01/09/2021', '01/15/2021', '01/21/2021', '01/27/2021', '02/09/2021', '02/12/2021', '02/22/2021', '02/25/2021', '02/28/2021', '03/03/2021', '03/05/2021', '03/12/2021', '03/13/2021', '03/15/2021', '03/17/2021', '03/19/2021', '03/25/2021', '03/26/2021', '04/02/2021', '04/04/2021', '04/08/2021', '04/10/2021', '04/14/2021', '04/20/2021', '04/22/2021', '04/27/2021', '04/30/2021', '05/03/2021', '05/05/2021', '05/13/2021', '05/14/2021', '05/18/2021', '05/19/2021', '05/20/2021', '05/28/2021', '06/04/2021', '06/07/2021', '06/08/2021', '06/14/2021', '06/21/2021', '06/30/2021', '07/06/2021', '07/29/2021', '08/24/2021', '08/30/2021', '09/01/2021', '09/08/2021', '09/09/2021', '09/10/2021', '09/13/2021', '09/14/2021', '09/15/2021', '09/16/2021', '09/17/2021', '09/20/2021', '09/22/2021', '09/23/2021', '09/24/2021', '09/25/2021', '09/29/2021', '09/30/2021', '10/03/2021', '10/05/2021', '10/09/2021', '10/10/2021', '10/11/2021', '10/14/2021', '10/18/2021', '10/19/2021', '10/20/2021', '10/21/2021', '10/25/2021', '10/27/2021', '10/28/2021', '11/01/2021', '11/02/2021', '11/03/2021', '11/04/2021', '11/05/2021', '11/07/2021', '11/09/2021', '11/11/2021', '11/12/2021', '11/15/2021', '11/16/2021', '11/17/2021', '11/18/2021', '11/19/2021', '11/26/2021', '11/27/2021', '11/30/2021', '12/01/2021', '12/05/2021', '12/07/2021', '12/08/2021', '12/09/2021', '12/12/2021', '12/14/2021', '12/20/2021', '12/26/2021', '12/29/2021', '01/03/2022', '01/04/2022', '01/07/2022', '01/16/2022', '01/20/2022', '01/24/2022', '01/25/2022', '01/27/2022', '02/01/2022', '02/02/2022', '02/03/2022', '02/05/2022', '02/07/2022', '02/10/2022', '02/18/2022', '02/22/2022', '02/23/2022', '02/24/2022', '02/28/2022', '03/02/2022', '03/06/2022', '03/08/2022', '03/09/2022', '03/10/2022', '03/17/2022', '03/23/2022', '03/25/2022', '03/29/2022', '03/30/2022', '04/05/2022', '04/07/2022', '04/11/2022', '04/13/2022', '04/19/2022', '04/25/2022', '04/26/2022', '05/04/2022', '05/09/2022', '05/13/2022', '05/19/2022', '05/20/2022', '05/25/2022', '05/26/2022', '05/27/2022', '05/30/2022', '06/02/2022', '06/13/2022', '06/22/2022', '08/17/2022', '08/29/2022', '09/01/2022', '09/06/2022', '09/08/2022', '09/12/2022', '09/14/2022', '09/15/2022', '09/16/2022', '09/19/2022', '09/20/2022', '09/22/2022', '09/24/2022', '09/28/2022', '10/02/2022', '10/04/2022', '10/05/2022', '10/06/2022', '10/10/2022', '10/11/2022', '10/13/2022', '10/18/2022', '10/20/2022', '10/21/2022', '10/26/2022', '10/27/2022', '10/28/2022', '11/01/2022', '11/05/2022', '11/08/2022', '11/09/2022', '11/11/2022', '11/14/2022', '11/15/2022', '11/17/2022', '11/18/2022', '11/20/2022', '11/22/2022', '11/28/2022', '11/29/2022', '12/02/2022', '12/04/2022', '12/05/2022', '12/08/2022', '12/20/2022', '01/04/2023', '01/10/2023', '01/16/2023', '01/19/2023', '01/27/2023', '02/02/2023', '02/09/2023', '02/16/2023', '02/17/2023', '02/27/2023', '03/08/2023', '03/10/2023', '03/17/2023', '03/22/2023', '03/24/2023', '03/29/2023', '04/11/2023', '04/18/2023', '05/01/2023', '05/10/2023', '05/16/2023', '05/23/2023', '06/05/2023', '06/13/2023', '06/23/2023', '07/05/2023', '08/01/2023', '08/10/2023', '08/28/2023', '09/01/2023', '09/08/2023', '09/09/2023', '09/12/2023', '09/13/2023', '09/14/2023', '09/18/2023', '09/24/2023', '09/26/2023', '09/30/2023', '10/02/2023', '10/03/2023', '10/05/2023', '10/06/2023', '10/09/2023', '10/12/2023', '10/16/2023', '10/19/2023', '10/20/2023', '10/22/2023', '10/30/2023', '11/07/2023', '11/08/2023', '11/13/2023', '11/17/2023', '11/27/2023', '11/30/2023', '12/04/2023', '12/13/2023', '12/19/2023', '01/02/2024', '01/05/2024', '01/10/2024', '01/15/2024', '01/24/2024', '01/29/2024', '02/08/2024', '02/15/2024', '02/21/2024', '03/11/2024', '03/25/2024', '03/26/2024', '04/02/2024', '04/14/2024', '04/18/2024', '04/25/2024', '04/30/2024', '05/09/2024', '05/30/2024', '06/05/2024', '06/26/2024', '08/20/2024', '08/24/2024', '08/26/2024', '09/02/2024', '09/05/2024', '09/09/2024', '09/12/2024', '09/16/2024', '09/17/2024', '09/19/2024', '09/20/2024', '09/23/2024', '09/24/2024', '09/25/2024', '10/01/2024', '10/02/2024', '10/07/2024', '10/09/2024', '10/14/2024', '10/21/2024', '10/22/2024', '10/29/2024', '11/04/2024', '11/05/2024', '11/08/2024', '11/11/2024', '11/14/2024', '11/18/2024', '11/26/2024', '11/27/2024', '12/05/2024', '12/06/2024', '12/17/2024', '12/24/2024', '01/16/2025', '01/23/2025', '01/25/2025', '01/30/2025', '02/06/2025', '02/19/2025', '03/05/2025', '03/07/2025']\n",
      "<class 'pandas.core.frame.DataFrame'>\n",
      "RangeIndex: 1062 entries, 0 to 1061\n",
      "Data columns (total 7 columns):\n",
      " #   Column       Non-Null Count  Dtype         \n",
      "---  ------       --------------  -----         \n",
      " 0   date         1062 non-null   object        \n",
      " 1   datetimeObj  1062 non-null   datetime64[ns]\n",
      " 2   TT           1062 non-null   int64         \n",
      " 3   NTT          1062 non-null   int64         \n",
      " 4   Unavailable  1062 non-null   int64         \n",
      " 5   Total        1062 non-null   int64         \n",
      " 6   Overall_EMA  1062 non-null   float64       \n",
      "dtypes: datetime64[ns](1), float64(1), int64(4), object(1)\n",
      "memory usage: 58.2+ KB\n"
     ]
    }
   ],
   "source": [
    "df__tt_per_date_flat = create_subset(df_all, subset_col_1='TrackType', subset_col_dates='DateAdded')\n",
    "df__tt_per_date_flat['df_new_per_date'].info()"
   ]
  },
  {
   "cell_type": "code",
   "execution_count": 7,
   "metadata": {},
   "outputs": [
    {
     "data": {
      "text/html": [
       "<div>\n",
       "<style scoped>\n",
       "    .dataframe tbody tr th:only-of-type {\n",
       "        vertical-align: middle;\n",
       "    }\n",
       "\n",
       "    .dataframe tbody tr th {\n",
       "        vertical-align: top;\n",
       "    }\n",
       "\n",
       "    .dataframe thead th {\n",
       "        text-align: right;\n",
       "    }\n",
       "</style>\n",
       "<table border=\"1\" class=\"dataframe\">\n",
       "  <thead>\n",
       "    <tr style=\"text-align: right;\">\n",
       "      <th></th>\n",
       "      <th>date</th>\n",
       "      <th>datetimeObj</th>\n",
       "      <th>TT</th>\n",
       "      <th>NTT</th>\n",
       "      <th>Unavailable</th>\n",
       "      <th>Total</th>\n",
       "      <th>Overall_EMA</th>\n",
       "    </tr>\n",
       "  </thead>\n",
       "  <tbody>\n",
       "    <tr>\n",
       "      <th>0</th>\n",
       "      <td>09/15/2012</td>\n",
       "      <td>2012-09-15</td>\n",
       "      <td>0</td>\n",
       "      <td>1</td>\n",
       "      <td>0</td>\n",
       "      <td>1</td>\n",
       "      <td>1.000000</td>\n",
       "    </tr>\n",
       "    <tr>\n",
       "      <th>1</th>\n",
       "      <td>01/15/2013</td>\n",
       "      <td>2013-01-15</td>\n",
       "      <td>0</td>\n",
       "      <td>1</td>\n",
       "      <td>0</td>\n",
       "      <td>1</td>\n",
       "      <td>1.000000</td>\n",
       "    </tr>\n",
       "    <tr>\n",
       "      <th>2</th>\n",
       "      <td>01/20/2013</td>\n",
       "      <td>2013-01-20</td>\n",
       "      <td>0</td>\n",
       "      <td>1</td>\n",
       "      <td>0</td>\n",
       "      <td>1</td>\n",
       "      <td>1.000000</td>\n",
       "    </tr>\n",
       "    <tr>\n",
       "      <th>3</th>\n",
       "      <td>01/23/2013</td>\n",
       "      <td>2013-01-23</td>\n",
       "      <td>2</td>\n",
       "      <td>0</td>\n",
       "      <td>0</td>\n",
       "      <td>2</td>\n",
       "      <td>1.365714</td>\n",
       "    </tr>\n",
       "    <tr>\n",
       "      <th>4</th>\n",
       "      <td>01/24/2013</td>\n",
       "      <td>2013-01-24</td>\n",
       "      <td>1</td>\n",
       "      <td>0</td>\n",
       "      <td>0</td>\n",
       "      <td>1</td>\n",
       "      <td>1.245839</td>\n",
       "    </tr>\n",
       "  </tbody>\n",
       "</table>\n",
       "</div>"
      ],
      "text/plain": [
       "         date datetimeObj  TT  NTT  Unavailable  Total  Overall_EMA\n",
       "0  09/15/2012  2012-09-15   0    1            0      1     1.000000\n",
       "1  01/15/2013  2013-01-15   0    1            0      1     1.000000\n",
       "2  01/20/2013  2013-01-20   0    1            0      1     1.000000\n",
       "3  01/23/2013  2013-01-23   2    0            0      2     1.365714\n",
       "4  01/24/2013  2013-01-24   1    0            0      1     1.245839"
      ]
     },
     "execution_count": 7,
     "metadata": {},
     "output_type": "execute_result"
    }
   ],
   "source": [
    "df__tt_per_date_flat['df_new_per_date'].head()"
   ]
  },
  {
   "cell_type": "code",
   "execution_count": 8,
   "metadata": {},
   "outputs": [],
   "source": [
    "df__tt_per_date_flat['df_new_flat'].to_csv('tt-per-date-flat.csv', index=False)"
   ]
  },
  {
   "cell_type": "code",
   "execution_count": 9,
   "metadata": {},
   "outputs": [],
   "source": [
    "df__tt_per_date_flat['df_new_per_date'].to_csv('tt-per-date.csv', index=False)"
   ]
  }
 ],
 "metadata": {
  "kernelspec": {
   "display_name": "Python 3",
   "language": "python",
   "name": "python3"
  },
  "language_info": {
   "codemirror_mode": {
    "name": "ipython",
    "version": 3
   },
   "file_extension": ".py",
   "mimetype": "text/x-python",
   "name": "python",
   "nbconvert_exporter": "python",
   "pygments_lexer": "ipython3",
   "version": "3.10.12"
  }
 },
 "nbformat": 4,
 "nbformat_minor": 2
}
